{
 "cells": [
  {
   "cell_type": "markdown",
   "id": "2870e3b7",
   "metadata": {},
   "source": [
    "# Data preparation"
   ]
  },
  {
   "cell_type": "markdown",
   "id": "5ba115dc",
   "metadata": {},
   "source": [
    "If your data is in one large CSV file, then this notebook will split it into seperate files."
   ]
  },
  {
   "cell_type": "code",
   "execution_count": null,
   "id": "54f9d8a1",
   "metadata": {},
   "outputs": [],
   "source": [
    "import pandas as pd\n",
    "df = pd.read_csv(\"data.csv\")"
   ]
  },
  {
   "cell_type": "code",
   "execution_count": null,
   "id": "7ba94937",
   "metadata": {},
   "outputs": [],
   "source": [
    "for index, row in df.iterrows():\n",
    "    filename = f\"{row['ID']}.txt\"\n",
    "\n",
    "    with open(f\"data/my_data/{filename}\", 'w') as file:\n",
    "       file.write(row['CONTENT'])"
   ]
  }
 ],
 "metadata": {
  "kernelspec": {
   "display_name": "conda_python3",
   "language": "python",
   "name": "conda_python3"
  },
  "language_info": {
   "codemirror_mode": {
    "name": "ipython",
    "version": 3
   },
   "file_extension": ".py",
   "mimetype": "text/x-python",
   "name": "python",
   "nbconvert_exporter": "python",
   "pygments_lexer": "ipython3",
   "version": "3.8.12"
  }
 },
 "nbformat": 4,
 "nbformat_minor": 5
}
