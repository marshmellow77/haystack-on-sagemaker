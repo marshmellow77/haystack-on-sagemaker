{
 "cells": [
  {
   "cell_type": "markdown",
   "id": "19a73ebc",
   "metadata": {},
   "source": [
    "# Initialise Elasticsearch"
   ]
  },
  {
   "cell_type": "markdown",
   "id": "b52b24ce",
   "metadata": {},
   "source": [
    "In this notebook we will upload the data into the Elasticsearch server"
   ]
  },
  {
   "cell_type": "code",
   "execution_count": null,
   "id": "a804cd19",
   "metadata": {},
   "outputs": [],
   "source": [
    "# !pip install farm-haystack"
   ]
  },
  {
   "cell_type": "code",
   "execution_count": null,
   "id": "d37b0025",
   "metadata": {},
   "outputs": [],
   "source": [
    "# IP Address of the Elasticsearch server\n",
    "IP_ADDRESS_ES = <IP address of ES server>"
   ]
  },
  {
   "cell_type": "code",
   "execution_count": null,
   "id": "710b7b70",
   "metadata": {},
   "outputs": [],
   "source": [
    "from haystack.document_stores import ElasticsearchDocumentStore"
   ]
  },
  {
   "cell_type": "code",
   "execution_count": null,
   "id": "d7e80e28",
   "metadata": {},
   "outputs": [],
   "source": [
    "document_store = ElasticsearchDocumentStore(\n",
    "    host=IP_ADDRESS_ES,\n",
    "    port=9200,\n",
    "    index=\"document\"\n",
    ")"
   ]
  },
  {
   "cell_type": "code",
   "execution_count": null,
   "id": "7f012b51",
   "metadata": {},
   "outputs": [],
   "source": [
    "from haystack.utils import clean_wiki_text, convert_files_to_docs"
   ]
  },
  {
   "cell_type": "markdown",
   "id": "d5827fe9",
   "metadata": {},
   "source": [
    "You can point to the directory from the previous notebook `00_data_prep`. If you are not bringing your own data, you can use the example data in the folder `data/wiki_got`, which contains Wikipedia articles about the TV show `Game of Thrones`"
   ]
  },
  {
   "cell_type": "code",
   "execution_count": null,
   "id": "e0d5b5c7",
   "metadata": {},
   "outputs": [],
   "source": [
    "# doc_dir = \"data/my_data\"\n",
    "doc_dir = \"data/wiki_got\""
   ]
  },
  {
   "cell_type": "code",
   "execution_count": null,
   "id": "48dc6185",
   "metadata": {},
   "outputs": [],
   "source": [
    "docs = convert_files_to_docs(dir_path=doc_dir, clean_func=clean_wiki_text, split_paragraphs=True)"
   ]
  },
  {
   "cell_type": "code",
   "execution_count": null,
   "id": "f2a920bf",
   "metadata": {},
   "outputs": [],
   "source": [
    "document_store.write_documents(docs)"
   ]
  }
 ],
 "metadata": {
  "kernelspec": {
   "display_name": "conda_python3",
   "language": "python",
   "name": "conda_python3"
  },
  "language_info": {
   "codemirror_mode": {
    "name": "ipython",
    "version": 3
   },
   "file_extension": ".py",
   "mimetype": "text/x-python",
   "name": "python",
   "nbconvert_exporter": "python",
   "pygments_lexer": "ipython3",
   "version": "3.8.12"
  }
 },
 "nbformat": 4,
 "nbformat_minor": 5
}
