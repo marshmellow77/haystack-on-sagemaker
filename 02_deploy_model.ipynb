{
 "cells": [
  {
   "cell_type": "markdown",
   "id": "30d3e4b5",
   "metadata": {},
   "source": [
    "# Deploying the model to a SageMaker endpoint"
   ]
  },
  {
   "cell_type": "code",
   "execution_count": null,
   "id": "8379561c",
   "metadata": {},
   "outputs": [],
   "source": [
    "import sagemaker\n",
    "\n",
    "sess = sagemaker.Session()\n",
    "sagemaker_session_bucket = sess.default_bucket()\n",
    "role = sagemaker.get_execution_role()"
   ]
  },
  {
   "cell_type": "code",
   "execution_count": null,
   "id": "a781a4b1",
   "metadata": {},
   "outputs": [],
   "source": [
    "%cd model\n",
    "!tar zcvf model.tar.gz *"
   ]
  },
  {
   "cell_type": "code",
   "execution_count": null,
   "id": "653d5c2d",
   "metadata": {},
   "outputs": [],
   "source": [
    "s3_location=f\"s3://{sagemaker_session_bucket}/haystack-demo/model.tar.gz\"\n",
    "!aws s3 cp model.tar.gz $s3_location"
   ]
  },
  {
   "cell_type": "code",
   "execution_count": null,
   "id": "9906098e",
   "metadata": {},
   "outputs": [],
   "source": [
    "from sagemaker.huggingface.model import HuggingFaceModel\n",
    "\n",
    "huggingface_model = HuggingFaceModel(\n",
    "   model_data=s3_location,\n",
    "   role=role,\n",
    "   transformers_version=\"4.17\",\n",
    "   pytorch_version=\"1.10\",\n",
    "   py_version='py38',\n",
    ")"
   ]
  },
  {
   "cell_type": "code",
   "execution_count": null,
   "id": "c33cbeff",
   "metadata": {},
   "outputs": [],
   "source": [
    "predictor = huggingface_model.deploy(\n",
    "    initial_instance_count=1,\n",
    "    instance_type=\"ml.g4dn.xlarge\"\n",
    ")"
   ]
  },
  {
   "cell_type": "markdown",
   "id": "3ae0ab6e",
   "metadata": {},
   "source": [
    "## Testing the endpoint"
   ]
  },
  {
   "cell_type": "code",
   "execution_count": null,
   "id": "c71549ab",
   "metadata": {},
   "outputs": [],
   "source": [
    "data = {\n",
    "  \"inputs\": \"Who killed Tywin Lannister?\", \"parameters\": {\"Retriever\": {\"top_k\": 10}, \"Reader\": {\"top_k\": 3}}\n",
    "}\n",
    "res = predictor.predict(data=data)"
   ]
  },
  {
   "cell_type": "code",
   "execution_count": null,
   "id": "78fd84a1",
   "metadata": {},
   "outputs": [],
   "source": [
    "import json\n",
    "result = json.loads(res['response'])"
   ]
  },
  {
   "cell_type": "code",
   "execution_count": null,
   "id": "a5a54807",
   "metadata": {},
   "outputs": [],
   "source": [
    "for r in result['answers']:\n",
    "    print(f\"Answer: {r['answer']}\\nConfidence: {r['score']*100:.1f}%\\nContext: {r['context']}\\nDocument: {r['meta']['name']}\\n\")"
   ]
  },
  {
   "cell_type": "code",
   "execution_count": null,
   "id": "54b42b3a",
   "metadata": {},
   "outputs": [],
   "source": []
  }
 ],
 "metadata": {
  "kernelspec": {
   "display_name": "conda_python3",
   "language": "python",
   "name": "conda_python3"
  },
  "language_info": {
   "codemirror_mode": {
    "name": "ipython",
    "version": 3
   },
   "file_extension": ".py",
   "mimetype": "text/x-python",
   "name": "python",
   "nbconvert_exporter": "python",
   "pygments_lexer": "ipython3",
   "version": "3.8.12"
  }
 },
 "nbformat": 4,
 "nbformat_minor": 5
}
