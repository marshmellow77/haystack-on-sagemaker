{
 "cells": [
  {
   "cell_type": "markdown",
   "id": "0c968680",
   "metadata": {},
   "source": [
    "# Deploying the model to a SageMaker endpoint"
   ]
  },
  {
   "cell_type": "code",
   "execution_count": null,
   "id": "5098ba9a",
   "metadata": {},
   "outputs": [],
   "source": [
    "# IP Address of the Elasticsearch server\n",
    "IP_ADDRESS_ES = <IP address of ES server>"
   ]
  },
  {
   "cell_type": "code",
   "execution_count": null,
   "id": "d44d3ed3",
   "metadata": {},
   "outputs": [],
   "source": [
    "import sagemaker\n",
    "\n",
    "sess = sagemaker.Session()\n",
    "sagemaker_session_bucket = sess.default_bucket()\n",
    "role = sagemaker.get_execution_role()"
   ]
  },
  {
   "cell_type": "code",
   "execution_count": null,
   "id": "e852e434",
   "metadata": {},
   "outputs": [],
   "source": [
    "%%writefile code/inference.py\n",
    "from haystack.nodes import BM25Retriever\n",
    "from haystack.nodes import FARMReader\n",
    "from haystack.pipelines import ExtractiveQAPipeline\n",
    "from haystack.document_stores import ElasticsearchDocumentStore\n",
    "import json\n",
    "\n",
    "\n",
    "def dumper(obj):\n",
    "    try:\n",
    "        return obj.toJSON()\n",
    "    except:\n",
    "        return obj.__dict__\n",
    "\n",
    "\n",
    "def model_fn(model_dir):\n",
    "    document_store = ElasticsearchDocumentStore(\n",
    "        host=$IP_ADDRESS_ES,\n",
    "        port=9200,\n",
    "        index=\"document\"\n",
    "    )\n",
    "    \n",
    "    retriever = BM25Retriever(document_store=document_store)\n",
    "    reader = FARMReader(model_name_or_path=\"deepset/roberta-base-squad2\", use_gpu=True)\n",
    "    pipe = ExtractiveQAPipeline(reader, retriever)\n",
    "    \n",
    "    return pipe\n",
    "\n",
    "\n",
    "def predict_fn(data, pipe):\n",
    "    query = data.pop(\"inputs\")\n",
    "    params = data.pop(\"parameters\", None)\n",
    "\n",
    "    prediction = pipe.run(query=query, params=params)\n",
    "    response = json.dumps(prediction, default=dumper)\n",
    "    \n",
    "    return {\"response\": response}"
   ]
  },
  {
   "cell_type": "code",
   "execution_count": null,
   "id": "66b598ea",
   "metadata": {},
   "outputs": [],
   "source": [
    "%cd model\n",
    "!tar zcvf model.tar.gz *"
   ]
  },
  {
   "cell_type": "code",
   "execution_count": null,
   "id": "6eaccb3a",
   "metadata": {},
   "outputs": [],
   "source": [
    "s3_location=f\"s3://{sagemaker_session_bucket}/haystack-demo/model.tar.gz\"\n",
    "!aws s3 cp model.tar.gz $s3_location"
   ]
  },
  {
   "cell_type": "code",
   "execution_count": null,
   "id": "09e321c3",
   "metadata": {},
   "outputs": [],
   "source": [
    "from sagemaker.huggingface.model import HuggingFaceModel\n",
    "\n",
    "huggingface_model = HuggingFaceModel(\n",
    "   model_data=s3_location,\n",
    "   role=role,\n",
    "   transformers_version=\"4.17\",\n",
    "   pytorch_version=\"1.10\",\n",
    "   py_version='py38',\n",
    ")"
   ]
  },
  {
   "cell_type": "code",
   "execution_count": null,
   "id": "46893ce8",
   "metadata": {},
   "outputs": [],
   "source": [
    "predictor = huggingface_model.deploy(\n",
    "    initial_instance_count=1,\n",
    "    instance_type=\"ml.g4dn.xlarge\"\n",
    ")"
   ]
  },
  {
   "cell_type": "markdown",
   "id": "a8b204f7",
   "metadata": {},
   "source": [
    "## Testing the endpoint"
   ]
  },
  {
   "cell_type": "code",
   "execution_count": null,
   "id": "1c8dc51d",
   "metadata": {},
   "outputs": [],
   "source": [
    "data = {\n",
    "  \"inputs\": \"Who killed Tywin?\", \"parameters\": {\"Retriever\": {\"top_k\": 10}, \"Reader\": {\"top_k\": 3}}\n",
    "}\n",
    "res = predictor.predict(data=data)"
   ]
  },
  {
   "cell_type": "code",
   "execution_count": null,
   "id": "051b6c9e",
   "metadata": {},
   "outputs": [],
   "source": [
    "import json\n",
    "result = json.loads(res['response'])"
   ]
  },
  {
   "cell_type": "code",
   "execution_count": null,
   "id": "a2a9d156",
   "metadata": {},
   "outputs": [],
   "source": [
    "for r in result['answers']:\n",
    "    print(f\"Answer: {r['answer']}\\nConfidence: {r['score']*100:.1f}%\\nContext: {r['context']}\\nDocument: {r['meta']['name']}\\n\")"
   ]
  }
 ],
 "metadata": {
  "kernelspec": {
   "display_name": "conda_python3",
   "language": "python",
   "name": "conda_python3"
  },
  "language_info": {
   "codemirror_mode": {
    "name": "ipython",
    "version": 3
   },
   "file_extension": ".py",
   "mimetype": "text/x-python",
   "name": "python",
   "nbconvert_exporter": "python",
   "pygments_lexer": "ipython3",
   "version": "3.8.12"
  }
 },
 "nbformat": 4,
 "nbformat_minor": 5
}
